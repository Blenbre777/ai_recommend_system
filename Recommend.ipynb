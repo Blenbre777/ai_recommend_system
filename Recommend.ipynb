{
 "cells": [
  {
   "cell_type": "markdown",
   "id": "822565c8",
   "metadata": {},
   "source": [
    "### 추천 시스템 제작(Pinterest), CPU\n",
    "- 7개의 그룹 \n",
    "- 사용자가 어느 카테고리 (그룹) 에 관심이 있는지 발견 "
   ]
  },
  {
   "cell_type": "code",
   "execution_count": 1,
   "id": "adcd3d43",
   "metadata": {},
   "outputs": [
    {
     "name": "stdout",
     "output_type": "stream",
     "text": [
      "WARNING:tensorflow:From C:\\Users\\soldesk\\AppData\\Roaming\\Python\\Python310\\site-packages\\keras\\src\\losses.py:2976: The name tf.losses.sparse_softmax_cross_entropy is deprecated. Please use tf.compat.v1.losses.sparse_softmax_cross_entropy instead.\n",
      "\n"
     ]
    }
   ],
   "source": [
    "import warnings\n",
    "warnings.filterwarnings(action='ignore')\n",
    "\n",
    "import os\n",
    "import time\n",
    "# import cv2\n",
    "import random\n",
    "\n",
    "import numpy as np\n",
    "import pandas as pd\n",
    "import seaborn as sb\n",
    "import tensorflow as tf\n",
    "\n",
    "from tensorflow.keras.models import Sequential  # class\n",
    "from tensorflow.keras.models import load_model  # model 사용\n",
    "from tensorflow.keras.layers import Dense       # 전결합\n",
    "from tensorflow.keras.layers import Dropout     # 특정 node를 사용안함.\n",
    "from tensorflow.keras.layers import Conv2D\n",
    "from tensorflow.keras.layers import MaxPooling2D\n",
    "from tensorflow.keras.layers import Flatten\n",
    "\n",
    "from tensorflow.keras.callbacks import EarlyStopping   # 학습 자동 중지\n",
    "from tensorflow.keras.callbacks import ModelCheckpoint # 우수한 학습 모델 파일 저장\n",
    "from tensorflow.keras import regularizers \n",
    "from tensorflow.keras.utils import to_categorical   # one-hot 엔코딩\n",
    "from tensorflow.keras.optimizers import Adam\n",
    "\n",
    "from tensorflow.keras.datasets import mnist\n",
    "\n",
    "from sklearn.preprocessing import LabelEncoder\n",
    "from sklearn.model_selection import train_test_split # 학습셋과 테스트셋의 분리 지원\n",
    "from sklearn.model_selection import StratifiedKFold  # K겹 교차 검증\n",
    "\n",
    "from PIL import Image\n",
    "\n",
    "import matplotlib.pyplot as plt\n",
    "from matplotlib import font_manager, rc\n",
    "\n",
    "import platform \n",
    "# Windows, Linux, Darwin\n",
    "if (platform.system() == 'Windows'):  \n",
    "    rc('font', family=font_manager.FontProperties(fname=\"C:/Windows/Fonts/malgun.ttf\").get_name())\n",
    "    path = '.' # Local\n",
    "else:    \n",
    "    rc('font', family='NanumBarunGothic')  # Ubuntu 18.04 기준 한글 처리\n",
    "    path = '/content/drive/My Drive/kd_ml/dnn/recommend_book' # Colab\n",
    "\n",
    "os.chdir(path) # 기본 경로 설정\n",
    "\n",
    "plt.rcParams[\"font.size\"] = 12         # 글자 크기\n",
    "# plt.rcParams[\"figure.figsize\"] = (10, 4) # 10:4의 그래프 비율\n",
    "plt.rcParams['axes.unicode_minus'] = False  # minus 부호는 unicode 적용시 한글이 깨짐으로 설정\n",
    "\n",
    "%matplotlib inline\n",
    "\n",
    "# ---------------------------------------------------------------------\n",
    "# gpu 사용시 런타임에서 필요한 양만큼의 GPU 메모리를 할당후 자동 증가 처리\n",
    "# OS 메모리도 초기화됨.\n",
    "# ---------------------------------------------------------------------\n",
    "import tensorflow as tf\n",
    "\n",
    "gpus = tf.config.experimental.list_physical_devices('GPU')\n",
    "if gpus:\n",
    "    try:\n",
    "        tf.config.experimental.set_memory_growth(gpus[0], True)\n",
    "    except RuntimeError as e:\n",
    "        # 프로그램 시작시에 메모리 증가가 설정되어야만 합니다\n",
    "        print(e)\n",
    "    \n",
    "# ---------------------------------------------------------------------"
   ]
  },
  {
   "cell_type": "code",
   "execution_count": 2,
   "id": "2d177f37",
   "metadata": {},
   "outputs": [
    {
     "name": "stdout",
     "output_type": "stream",
     "text": [
      "<class 'numpy.ndarray'>\n",
      "(440, 50)\n"
     ]
    }
   ],
   "source": [
    "# header가 있을경우 skiprows=1 선언\n",
    "data = np.loadtxt('./train.csv', delimiter=',', skiprows=1, dtype=np.float64)   # 특성이 작은 데이터의 예외 추가, 손실: 0.0060576219111680984\n",
    "print(type(data))\n",
    "print(data.shape)"
   ]
  },
  {
   "cell_type": "code",
   "execution_count": 3,
   "id": "3f0d6b04",
   "metadata": {},
   "outputs": [
    {
     "name": "stdout",
     "output_type": "stream",
     "text": [
      "(440, 49)\n",
      "(440,)\n"
     ]
    }
   ],
   "source": [
    "# 데이터와 class의 분리\n",
    "X = data[:, 0:49]  # 0 ~ 49\n",
    "print(X.shape)\n",
    "\n",
    "# puppy: 강이지, cat: 고양이, fish: 물고기, bicycle: 자전거, festival: 축제,\n",
    "# mountain: 등산, camping: 캠핑\n",
    "Y = data[:, 49]    # 49 번째 데이터, class의 분리\n",
    "print(Y.shape)"
   ]
  },
  {
   "cell_type": "code",
   "execution_count": 4,
   "id": "9f97224e",
   "metadata": {},
   "outputs": [
    {
     "name": "stdout",
     "output_type": "stream",
     "text": [
      "[[1. 0. 0. 0. 0. 0. 0. 1. 0. 0. 0. 0. 0. 0. 1. 0. 0. 0. 0. 0. 0. 1. 0. 0.\n",
      "  0. 0. 0. 0. 1. 0. 0. 0. 0. 0. 0. 1. 0. 0. 0. 0. 0. 0. 1. 0. 0. 0. 0. 0.\n",
      "  0.]\n",
      " [0. 1. 0. 0. 0. 0. 0. 0. 1. 0. 0. 0. 0. 0. 0. 1. 0. 0. 0. 0. 0. 0. 1. 0.\n",
      "  0. 0. 0. 0. 0. 1. 0. 0. 0. 0. 0. 0. 1. 0. 0. 0. 0. 0. 0. 1. 0. 0. 0. 0.\n",
      "  0.]\n",
      " [0. 0. 1. 0. 0. 0. 0. 0. 0. 1. 0. 0. 0. 0. 0. 0. 1. 0. 0. 0. 0. 0. 0. 1.\n",
      "  0. 0. 0. 0. 0. 0. 1. 0. 0. 0. 0. 0. 0. 1. 0. 0. 0. 0. 0. 0. 1. 0. 0. 0.\n",
      "  0.]\n",
      " [0. 0. 0. 1. 0. 0. 0. 0. 0. 0. 1. 0. 0. 0. 0. 0. 0. 1. 0. 0. 0. 0. 0. 0.\n",
      "  1. 0. 0. 0. 0. 0. 0. 1. 0. 0. 0. 0. 0. 0. 1. 0. 0. 0. 0. 0. 0. 1. 0. 0.\n",
      "  0.]\n",
      " [0. 0. 0. 0. 1. 0. 0. 0. 0. 0. 0. 1. 0. 0. 0. 0. 0. 0. 1. 0. 0. 0. 0. 0.\n",
      "  0. 1. 0. 0. 0. 0. 0. 0. 1. 0. 0. 0. 0. 0. 0. 1. 0. 0. 0. 0. 0. 0. 1. 0.\n",
      "  0.]]\n"
     ]
    }
   ],
   "source": [
    "print(X[:5]) # 5행 확인"
   ]
  },
  {
   "cell_type": "code",
   "execution_count": 5,
   "id": "76c5141e",
   "metadata": {},
   "outputs": [
    {
     "name": "stdout",
     "output_type": "stream",
     "text": [
      "[0. 1. 2. 3. 4.]\n"
     ]
    }
   ],
   "source": [
    "print(Y[:5]) # 5행의 데이터만 확인"
   ]
  },
  {
   "cell_type": "code",
   "execution_count": 6,
   "id": "abe1e4dd",
   "metadata": {},
   "outputs": [
    {
     "name": "stdout",
     "output_type": "stream",
     "text": [
      "[0 1 2 3 4 5 6 0 1 2 3 4 5 6 0 1 2 3 4 5 6 0 1 2 3 4 5 6 0 1 2 3 4 5 6 0 1\n",
      " 2 3 4 5 6 0 1 2 3 4 5 6 0 1 2 3 4 5 6 0 1 2 3 4 5 6 0 1 2 3 4 5 6 0 1 2 3\n",
      " 4 5 6 0 1 2 3 4 5 6 0 1 2 3 4 5 6 0 1 2 3 4 5 6 0 1 2 3 4 5 6 0 1 2 3 4 5\n",
      " 6 0 1 2 3 4 5 6 0 1 2 3 4 5 6 0 1 2 3 4 5 6 0 1 2 3 4 5 6 0 1 2 3 4 5 6 0\n",
      " 1 2 3 4 5 6 0 1 2 3 4 5 6 0 1 2 3 4 5 6 0 1 2 3 4 5 6 0 1 2 3 4 5 6 0 1 2\n",
      " 3 4 5 6 0 1 2 3 4 5 6 0 1 2 3 4 5 6 0 1 2 3 4 5 6 0 0 0 0 0 0 0 0 0 0 0 1\n",
      " 2 3 4 5 6 0 1 2 3 4 5 6 0 1 2 3 4 5 6 0 1 2 3 4 5 6 0 1 2 3 4 5 6 0 1 2 3\n",
      " 4 5 6 0 1 2 3 4 5 6 0 1 2 3 4 5 6 0 1 2 3 4 5 6 0 1 2 3 4 5 6 0 1 2 3 4 5\n",
      " 6 0 1 2 3 4 5 6 0 1 2 3 4 5 6 0 1 2 3 4 5 6 0 1 2 3 4 5 6 0 1 2 3 4 5 6 0\n",
      " 1 2 3 4 5 6 0 1 2 3 4 5 6 0 1 2 3 4 5 6 0 1 2 3 4 5 6 0 1 2 3 4 5 6 0 1 2\n",
      " 3 4 5 6 0 1 2 3 4 5 6 0 1 2 3 4 5 6 0 1 2 3 4 5 6 0 1 2 3 4 5 6 0 1 2 3 4\n",
      " 5 6 0 1 2 3 4 5 6 0 1 2 3 4 5 6 0 1 2 3 4 5 6 0 0 0 0 0 0 0 0 0 0]\n"
     ]
    }
   ],
   "source": [
    "Y = Y.astype('int') # 정수로 형변환\n",
    "print(Y)"
   ]
  },
  {
   "cell_type": "code",
   "execution_count": 7,
   "id": "96d0995e",
   "metadata": {},
   "outputs": [
    {
     "name": "stdout",
     "output_type": "stream",
     "text": [
      "[[1. 0. 0. 0. 0. 0. 0.]\n",
      " [0. 1. 0. 0. 0. 0. 0.]\n",
      " [0. 0. 1. 0. 0. 0. 0.]\n",
      " [0. 0. 0. 1. 0. 0. 0.]\n",
      " [0. 0. 0. 0. 1. 0. 0.]\n",
      " [0. 0. 0. 0. 0. 1. 0.]\n",
      " [0. 0. 0. 0. 0. 0. 1.]]\n"
     ]
    }
   ],
   "source": [
    "# 0: 강이지, 1: 고양이, 2: 물고기, 3: 자전거, 4: 축제, 5: 등산, 6: 캠핑\n",
    "Y_encoded = to_categorical(Y) # 데이터 전처리 기법: one-hot-encoding\n",
    "\n",
    "print(Y_encoded[:7])"
   ]
  },
  {
   "cell_type": "raw",
   "id": "04466a85",
   "metadata": {},
   "source": [
    "일상 생활에서 7가지로 분류한다면 \n",
    "어떤데이터를 분류할때 확률이 대응하고, 최종적으로 7개의 카테고리에 들어갈 확률을 산출하게됨.\n",
    "예) SUV 자동차의 분류: 승용차의 성질과 SUV의 성질을 모두 가지고 있다면 분류 확률은?\n",
    "     승용차: 50%, SUV: 40%, 트럭: 10%\n",
    "분류가 7가지이면 확률도 5가지를 지정해야함 ? 논리 오류\n",
    "분류가 7가지이면 확률도 7가지를 지정해야함 -> AI는 7가지 학률을 출력해야함.\n",
    "7가지로 분류를 하기로 하였으나 현재 Y는 단순한 정수임 [0 1 2 3 4 5 6 0 1 2 3 4.....\n",
    "그룹 갯수 만큼 0을 발생시키고 하나의 Y 값을 1이 들어가는 index로 변형 \n",
    "\n",
    "원인데이터: 1,0,0,0,0,0,0,1,0,0,0,0,0,0,1,0,0,0,0,0,0,1,0,0,0,0,0,0,1,0,0,0,0,0,0,1,0,0,0,0,0,0,1,0,0,0,0,0,0\n",
    "찾아야할 값: 0\n",
    "[1. 0. 0. 0. 0. 0. 0.] \n",
    "\n",
    "원인데이터: 0,1,0,0,0,0,0,0,1,0,0,0,0,0,0,1,0,0,0,0,0,0,1,0,0,0,0,0,0,1,0,0,0,0,0,0,1,0,0,0,0,0,0,1,0,0,0,0,0\n",
    "찾아야할 값: 1\n",
    "[0. 1. 0. 0. 0. 0. 0.] \n",
    "\n",
    "텐서플로의 훈련 방법\n",
    "1,0,0,0,0,0,0,1,0,0,0,0,0,0,1,0,0,0,0,0,0,1,0,0,0,0,0,0,1,0,0,0,0,0,0,1,0,0,0,0,0,0,1,0,0,0,0,0,0\n",
    "가중치와 편향을 [1. 0. 0. 0. 0. 0. 0.]이 출력 되도록 변경\n",
    "\n",
    "0,1,0,0,0,0,0,0,1,0,0,0,0,0,0,1,0,0,0,0,0,0,1,0,0,0,0,0,0,1,0,0,0,0,0,0,1,0,0,0,0,0,0,1,0,0,0,0,0\n",
    "가중치와 편향을 [0. 1. 0. 0. 0. 0. 0.]이 출력 되도록 변경\n"
   ]
  },
  {
   "cell_type": "code",
   "execution_count": 8,
   "id": "dbd52142",
   "metadata": {},
   "outputs": [
    {
     "name": "stdout",
     "output_type": "stream",
     "text": [
      "[1. 0. 0. 0. 0. 0. 0. 1. 0. 0. 0. 0. 0. 0. 1. 0. 0. 0. 0. 0. 0. 1. 0. 0.\n",
      " 0. 0. 0. 0. 1. 0. 0. 0. 0. 0. 0. 1. 0. 0. 0. 0. 0. 0. 1. 0. 0. 0. 0. 0.\n",
      " 0.] -> [1. 0. 0. 0. 0. 0. 0.]\n",
      "[0. 1. 0. 0. 0. 0. 0. 0. 1. 0. 0. 0. 0. 0. 0. 1. 0. 0. 0. 0. 0. 0. 1. 0.\n",
      " 0. 0. 0. 0. 0. 1. 0. 0. 0. 0. 0. 0. 1. 0. 0. 0. 0. 0. 0. 1. 0. 0. 0. 0.\n",
      " 0.] -> [0. 1. 0. 0. 0. 0. 0.]\n",
      "[0. 0. 1. 0. 0. 0. 0. 0. 0. 1. 0. 0. 0. 0. 0. 0. 1. 0. 0. 0. 0. 0. 0. 1.\n",
      " 0. 0. 0. 0. 0. 0. 1. 0. 0. 0. 0. 0. 0. 1. 0. 0. 0. 0. 0. 0. 1. 0. 0. 0.\n",
      " 0.] -> [0. 0. 1. 0. 0. 0. 0.]\n"
     ]
    }
   ],
   "source": [
    "print(X[0], '->', Y_encoded[0]) \n",
    "# [1. 0. 0. 0. 0. 1. 0. 0. 0. 0. 1. 0. 0. 0. 0. 1. 0. 0. 0. 0. 1. 0. 0. 0.\n",
    "# 0.] 이 데이터는 답이 [1. 0. 0. 0. 0.] 임\n",
    "\n",
    "print(X[1], '->', Y_encoded[1]) \n",
    "# [0. 1. 0. 0. 0. 0. 1. 0. 0. 0. 0. 1. 0. 0. 0. 0. 1. 0. 0. 0. 0. 1. 0. 0.\n",
    "# 0.] 이 데이터는 답이 [0. 1. 0. 0. 0.]임\n",
    "\n",
    "print(X[2], '->', Y_encoded[2]) \n",
    "# [0. 0. 1. 0. 0. 0. 0. 1. 0. 0. 0. 0. 1. 0. 0. 0. 0. 1. 0. 0. 0. 0. 1. 0.\n",
    "# 0.]이 데이터는 답이 [0. 0. 1. 0. 0.]임"
   ]
  },
  {
   "cell_type": "code",
   "execution_count": 9,
   "id": "8974cacd",
   "metadata": {},
   "outputs": [
    {
     "name": "stdout",
     "output_type": "stream",
     "text": [
      "[[0. 1. 0. 0. 0. 0. 0.]\n",
      " [0. 0. 0. 0. 0. 0. 1.]\n",
      " [0. 1. 0. 0. 0. 0. 0.]\n",
      " [0. 0. 1. 0. 0. 0. 0.]\n",
      " [0. 0. 0. 0. 0. 1. 0.]\n",
      " [0. 0. 0. 0. 0. 1. 0.]\n",
      " [0. 0. 0. 0. 0. 1. 0.]\n",
      " [0. 0. 0. 0. 0. 0. 1.]\n",
      " [0. 0. 0. 0. 1. 0. 0.]\n",
      " [0. 0. 0. 0. 1. 0. 0.]\n",
      " [0. 0. 0. 0. 1. 0. 0.]\n",
      " [0. 0. 0. 0. 1. 0. 0.]\n",
      " [0. 1. 0. 0. 0. 0. 0.]\n",
      " [0. 0. 0. 0. 1. 0. 0.]\n",
      " [1. 0. 0. 0. 0. 0. 0.]\n",
      " [0. 0. 0. 0. 0. 0. 1.]\n",
      " [0. 1. 0. 0. 0. 0. 0.]\n",
      " [0. 0. 1. 0. 0. 0. 0.]\n",
      " [0. 0. 0. 0. 1. 0. 0.]\n",
      " [0. 0. 0. 0. 0. 1. 0.]\n",
      " [1. 0. 0. 0. 0. 0. 0.]\n",
      " [0. 1. 0. 0. 0. 0. 0.]\n",
      " [1. 0. 0. 0. 0. 0. 0.]\n",
      " [0. 0. 0. 0. 1. 0. 0.]\n",
      " [0. 0. 0. 1. 0. 0. 0.]\n",
      " [0. 1. 0. 0. 0. 0. 0.]\n",
      " [1. 0. 0. 0. 0. 0. 0.]\n",
      " [1. 0. 0. 0. 0. 0. 0.]\n",
      " [1. 0. 0. 0. 0. 0. 0.]\n",
      " [0. 0. 0. 1. 0. 0. 0.]\n",
      " [0. 1. 0. 0. 0. 0. 0.]\n",
      " [0. 0. 1. 0. 0. 0. 0.]\n",
      " [0. 0. 0. 0. 0. 0. 1.]\n",
      " [0. 0. 0. 0. 0. 0. 1.]\n",
      " [0. 0. 0. 0. 1. 0. 0.]\n",
      " [0. 0. 1. 0. 0. 0. 0.]\n",
      " [0. 0. 1. 0. 0. 0. 0.]\n",
      " [0. 0. 0. 0. 0. 1. 0.]\n",
      " [0. 0. 0. 0. 0. 1. 0.]\n",
      " [0. 0. 0. 1. 0. 0. 0.]\n",
      " [0. 1. 0. 0. 0. 0. 0.]\n",
      " [0. 0. 0. 1. 0. 0. 0.]\n",
      " [1. 0. 0. 0. 0. 0. 0.]\n",
      " [1. 0. 0. 0. 0. 0. 0.]\n",
      " [0. 0. 0. 0. 0. 0. 1.]\n",
      " [0. 1. 0. 0. 0. 0. 0.]\n",
      " [0. 0. 0. 0. 0. 0. 1.]\n",
      " [0. 0. 1. 0. 0. 0. 0.]\n",
      " [0. 0. 0. 0. 1. 0. 0.]\n",
      " [0. 0. 1. 0. 0. 0. 0.]\n",
      " [0. 0. 0. 0. 0. 1. 0.]\n",
      " [0. 0. 0. 0. 0. 1. 0.]\n",
      " [0. 0. 0. 1. 0. 0. 0.]\n",
      " [0. 0. 0. 0. 0. 0. 1.]\n",
      " [0. 0. 0. 1. 0. 0. 0.]\n",
      " [1. 0. 0. 0. 0. 0. 0.]\n",
      " [0. 0. 0. 1. 0. 0. 0.]\n",
      " [1. 0. 0. 0. 0. 0. 0.]\n",
      " [1. 0. 0. 0. 0. 0. 0.]\n",
      " [0. 0. 0. 1. 0. 0. 0.]\n",
      " [0. 0. 0. 0. 0. 1. 0.]\n",
      " [0. 0. 0. 1. 0. 0. 0.]\n",
      " [0. 1. 0. 0. 0. 0. 0.]\n",
      " [0. 0. 1. 0. 0. 0. 0.]\n",
      " [0. 0. 0. 1. 0. 0. 0.]\n",
      " [0. 0. 0. 0. 0. 1. 0.]\n",
      " [0. 1. 0. 0. 0. 0. 0.]\n",
      " [0. 0. 0. 0. 0. 0. 1.]\n",
      " [1. 0. 0. 0. 0. 0. 0.]\n",
      " [0. 0. 0. 0. 0. 0. 1.]\n",
      " [0. 0. 0. 0. 0. 0. 1.]\n",
      " [0. 0. 1. 0. 0. 0. 0.]\n",
      " [0. 0. 1. 0. 0. 0. 0.]\n",
      " [0. 0. 1. 0. 0. 0. 0.]\n",
      " [1. 0. 0. 0. 0. 0. 0.]\n",
      " [0. 0. 0. 0. 0. 1. 0.]\n",
      " [1. 0. 0. 0. 0. 0. 0.]\n",
      " [0. 0. 0. 0. 1. 0. 0.]\n",
      " [0. 0. 0. 1. 0. 0. 0.]\n",
      " [0. 0. 0. 0. 1. 0. 0.]]\n",
      "(80, 7)\n"
     ]
    }
   ],
   "source": [
    "# train_test_split 분할을 통한 훈련, 검증, 테스트 데이터의 분리\n",
    "seed = 0\n",
    "# X 분할: x_train_all, x_test\n",
    "# Y 분할: y_train_all, y_test\n",
    "# stratify=Y_encoded: 5개의 그룹을 균등하게 분포시켜 분할함.\n",
    "# test_size=0.1: 10%를 x_test, y_test에 할당\n",
    "# random_state=seed: 무작위로 데이터 추출\n",
    "\n",
    "# 90%: x_train_all, y_train_all\n",
    "# 10%: x_test, y_test\n",
    "# 테스트의 크기가 분류 갯수보다 작으면 에러가 발생함으로 5건 이상이어야함.\n",
    "x_train_all, x_test, y_train_all, y_test = train_test_split(X, Y_encoded,\n",
    "                                           stratify=Y_encoded,\n",
    "                                           test_size=0.1,\n",
    "                                           random_state=seed)\n",
    "\n",
    "# 나머지 데이터 90%를 분할, 80%: 훈련, 20%: 검증\n",
    "# 80%: x_train, y_train\n",
    "# 20%: x_val, y_val\n",
    "x_train, x_val, y_train, y_val = train_test_split(x_train_all, y_train_all,\n",
    "                                           stratify=y_train_all,\n",
    "                                           test_size=0.2,\n",
    "                                           random_state=seed)\n",
    "\n",
    "print(y_val) # 검증 데이터 확인\n",
    "print(y_val.shape) # 검증 데이터 갯수 확인\n",
    "# 강아지, 고양이, 물고기, 자전거, 축제, 등산, 캠핑"
   ]
  },
  {
   "cell_type": "code",
   "execution_count": 10,
   "id": "aad033c8",
   "metadata": {},
   "outputs": [
    {
     "name": "stdout",
     "output_type": "stream",
     "text": [
      "[[0. 0. 0. 0. 0. 1. 0.]\n",
      " [0. 0. 0. 0. 1. 0. 0.]\n",
      " [1. 0. 0. 0. 0. 0. 0.]\n",
      " [0. 0. 0. 0. 1. 0. 0.]\n",
      " [0. 1. 0. 0. 0. 0. 0.]\n",
      " [0. 0. 0. 0. 0. 0. 1.]\n",
      " [1. 0. 0. 0. 0. 0. 0.]\n",
      " [0. 0. 0. 0. 0. 0. 1.]\n",
      " [0. 0. 0. 1. 0. 0. 0.]\n",
      " [1. 0. 0. 0. 0. 0. 0.]\n",
      " [0. 0. 0. 0. 0. 0. 1.]\n",
      " [0. 0. 0. 0. 0. 1. 0.]\n",
      " [0. 0. 1. 0. 0. 0. 0.]\n",
      " [0. 0. 0. 0. 0. 1. 0.]\n",
      " [0. 0. 0. 1. 0. 0. 0.]\n",
      " [0. 0. 1. 0. 0. 0. 0.]\n",
      " [0. 0. 1. 0. 0. 0. 0.]\n",
      " [0. 0. 0. 0. 0. 1. 0.]\n",
      " [0. 0. 0. 1. 0. 0. 0.]\n",
      " [1. 0. 0. 0. 0. 0. 0.]\n",
      " [0. 1. 0. 0. 0. 0. 0.]\n",
      " [0. 1. 0. 0. 0. 0. 0.]\n",
      " [0. 0. 1. 0. 0. 0. 0.]\n",
      " [0. 0. 0. 0. 0. 0. 1.]\n",
      " [0. 0. 0. 1. 0. 0. 0.]\n",
      " [0. 0. 1. 0. 0. 0. 0.]\n",
      " [0. 1. 0. 0. 0. 0. 0.]\n",
      " [0. 0. 1. 0. 0. 0. 0.]\n",
      " [0. 0. 0. 1. 0. 0. 0.]\n",
      " [0. 0. 0. 0. 0. 1. 0.]\n",
      " [0. 1. 0. 0. 0. 0. 0.]\n",
      " [1. 0. 0. 0. 0. 0. 0.]\n",
      " [0. 0. 0. 0. 0. 0. 1.]\n",
      " [0. 1. 0. 0. 0. 0. 0.]\n",
      " [0. 0. 0. 0. 1. 0. 0.]\n",
      " [0. 0. 0. 0. 1. 0. 0.]\n",
      " [1. 0. 0. 0. 0. 0. 0.]\n",
      " [0. 0. 0. 0. 1. 0. 0.]\n",
      " [1. 0. 0. 0. 0. 0. 0.]\n",
      " [0. 0. 0. 1. 0. 0. 0.]\n",
      " [0. 0. 0. 0. 0. 1. 0.]\n",
      " [0. 0. 0. 0. 1. 0. 0.]\n",
      " [1. 0. 0. 0. 0. 0. 0.]\n",
      " [0. 0. 0. 0. 0. 0. 1.]]\n",
      "(44, 7)\n"
     ]
    }
   ],
   "source": [
    "print(y_test)\n",
    "print(y_test.shape)\n",
    "# (44, 7): 44건의 데이터가 입력되어 한건당 7가지에 속할 확률이 출력됨으로 44행 7열이됨."
   ]
  },
  {
   "cell_type": "code",
   "execution_count": 11,
   "id": "9a43597f",
   "metadata": {},
   "outputs": [
    {
     "name": "stdout",
     "output_type": "stream",
     "text": [
      "WARNING:tensorflow:From C:\\Users\\soldesk\\AppData\\Roaming\\Python\\Python310\\site-packages\\keras\\src\\backend.py:873: The name tf.get_default_graph is deprecated. Please use tf.compat.v1.get_default_graph instead.\n",
      "\n",
      "WARNING:tensorflow:From C:\\Users\\soldesk\\AppData\\Roaming\\Python\\Python310\\site-packages\\keras\\src\\optimizers\\__init__.py:309: The name tf.train.Optimizer is deprecated. Please use tf.compat.v1.train.Optimizer instead.\n",
      "\n",
      "Model: \"sequential\"\n",
      "_________________________________________________________________\n",
      " Layer (type)                Output Shape              Param #   \n",
      "=================================================================\n",
      " dense (Dense)               (None, 20)                1000      \n",
      "                                                                 \n",
      " dense_1 (Dense)             (None, 10)                210       \n",
      "                                                                 \n",
      " dense_2 (Dense)             (None, 7)                 77        \n",
      "                                                                 \n",
      "=================================================================\n",
      "Total params: 1287 (5.03 KB)\n",
      "Trainable params: 1287 (5.03 KB)\n",
      "Non-trainable params: 0 (0.00 Byte)\n",
      "_________________________________________________________________\n",
      "Epoch 1/10\n",
      "WARNING:tensorflow:From C:\\Users\\soldesk\\AppData\\Roaming\\Python\\Python310\\site-packages\\keras\\src\\utils\\tf_utils.py:492: The name tf.ragged.RaggedTensorValue is deprecated. Please use tf.compat.v1.ragged.RaggedTensorValue instead.\n",
      "\n",
      "WARNING:tensorflow:From C:\\Users\\soldesk\\AppData\\Roaming\\Python\\Python310\\site-packages\\keras\\src\\engine\\base_layer_utils.py:384: The name tf.executing_eagerly_outside_functions is deprecated. Please use tf.compat.v1.executing_eagerly_outside_functions instead.\n",
      "\n",
      "310/316 [============================>.] - ETA: 0s - loss: 1.6602 - accuracy: 0.5258\n",
      "Epoch 1: val_accuracy improved from -inf to 0.82500, saving model to .\\Pinterest.h5\n",
      "316/316 [==============================] - 3s 5ms/step - loss: 1.6530 - accuracy: 0.5316 - val_loss: 1.1893 - val_accuracy: 0.8250\n",
      "Epoch 2/10\n",
      "303/316 [===========================>..] - ETA: 0s - loss: 0.6792 - accuracy: 0.9340\n",
      "Epoch 2: val_accuracy improved from 0.82500 to 1.00000, saving model to .\\Pinterest.h5\n",
      "316/316 [==============================] - 1s 3ms/step - loss: 0.6590 - accuracy: 0.9367 - val_loss: 0.2273 - val_accuracy: 1.0000\n",
      "Epoch 3/10\n",
      "302/316 [===========================>..] - ETA: 0s - loss: 0.1101 - accuracy: 1.0000\n",
      "Epoch 3: val_accuracy did not improve from 1.00000\n",
      "316/316 [==============================] - 1s 3ms/step - loss: 0.1075 - accuracy: 1.0000 - val_loss: 0.0452 - val_accuracy: 1.0000\n",
      "Epoch 4/10\n",
      "299/316 [===========================>..] - ETA: 0s - loss: 0.0296 - accuracy: 1.0000\n",
      "Epoch 4: val_accuracy did not improve from 1.00000\n",
      "316/316 [==============================] - 1s 3ms/step - loss: 0.0288 - accuracy: 1.0000 - val_loss: 0.0173 - val_accuracy: 1.0000\n",
      "Epoch 5/10\n",
      "298/316 [===========================>..] - ETA: 0s - loss: 0.0129 - accuracy: 1.0000\n",
      "Epoch 5: val_accuracy did not improve from 1.00000\n",
      "316/316 [==============================] - 1s 3ms/step - loss: 0.0127 - accuracy: 1.0000 - val_loss: 0.0088 - val_accuracy: 1.0000\n",
      "Epoch 6/10\n",
      "309/316 [============================>.] - ETA: 0s - loss: 0.0068 - accuracy: 1.0000\n",
      "Epoch 6: val_accuracy did not improve from 1.00000\n",
      "316/316 [==============================] - 1s 3ms/step - loss: 0.0067 - accuracy: 1.0000 - val_loss: 0.0049 - val_accuracy: 1.0000\n",
      "Epoch 7/10\n",
      "300/316 [===========================>..] - ETA: 0s - loss: 0.0040 - accuracy: 1.0000\n",
      "Epoch 7: val_accuracy did not improve from 1.00000\n",
      "316/316 [==============================] - 1s 3ms/step - loss: 0.0040 - accuracy: 1.0000 - val_loss: 0.0031 - val_accuracy: 1.0000\n",
      "Epoch 8/10\n",
      "302/316 [===========================>..] - ETA: 0s - loss: 0.0026 - accuracy: 1.0000\n",
      "Epoch 8: val_accuracy did not improve from 1.00000\n",
      "316/316 [==============================] - 1s 3ms/step - loss: 0.0026 - accuracy: 1.0000 - val_loss: 0.0020 - val_accuracy: 1.0000\n",
      "Epoch 9/10\n",
      "307/316 [============================>.] - ETA: 0s - loss: 0.0018 - accuracy: 1.0000\n",
      "Epoch 9: val_accuracy did not improve from 1.00000\n",
      "316/316 [==============================] - 1s 3ms/step - loss: 0.0018 - accuracy: 1.0000 - val_loss: 0.0014 - val_accuracy: 1.0000\n",
      "Epoch 10/10\n",
      "311/316 [============================>.] - ETA: 0s - loss: 0.0013 - accuracy: 1.0000\n",
      "Epoch 10: val_accuracy did not improve from 1.00000\n",
      "316/316 [==============================] - 1s 3ms/step - loss: 0.0013 - accuracy: 1.0000 - val_loss: 0.0011 - val_accuracy: 1.0000\n"
     ]
    }
   ],
   "source": [
    "# 네트워크 구성\n",
    "SEED = 0\n",
    "os.environ['PYTHONHASHSEED'] = str(SEED)\n",
    "os.environ['TF_DETERMINISTIC_OPS'] = '1'\n",
    "\n",
    "tf.random.set_seed(SEED) # Global seed, 가중치, 편향이 일정하게 변경됨\n",
    "np.random.seed(SEED)\n",
    "random.seed(SEED)\n",
    "\n",
    "model = Sequential()\n",
    "# input_dim=49: 입력 데이터 x의 갯수\n",
    "model.add(Dense(20, input_dim=49, activation='relu'))# Weight: 500, BIAS: 20\n",
    "model.add(Dense(10, activation='relu')) \n",
    "model.add(Dense(7, activation='softmax')) # 0 ~ 1 사이의 확률 7개 출력, 총합: 1\n",
    "model.compile(optimizer='adam', loss='categorical_crossentropy', \n",
    "                                metrics=['accuracy'])\n",
    "model.summary()\n",
    "\n",
    "# 오차 감소시마다 h5 형식으로 파일 저장\n",
    "mcp = ModelCheckpoint(filepath='./Pinterest.h5', monitor='val_accuracy',\n",
    "                      verbose=1, save_best_only=True)\n",
    "\n",
    "# 오차가 1회 증가시 자동 종료\n",
    "es = EarlyStopping(monitor='loss', patience=1, restore_best_weights=True)\n",
    "\n",
    "hist = model.fit(x_train, y_train, \n",
    "                 validation_data=(x_val, y_val),\n",
    "                 epochs=10, \n",
    "                 batch_size=1, callbacks=[mcp, es])\n"
   ]
  },
  {
   "cell_type": "code",
   "execution_count": 12,
   "id": "0ef6c87a",
   "metadata": {},
   "outputs": [
    {
     "data": {
      "image/png": "[encoded data removed]",
      "text/plain": [
       "<Figure size 1000x500 with 2 Axes>"
      ]
     },
     "metadata": {},
     "output_type": "display_data"
    }
   ],
   "source": [
    "import matplotlib.pyplot as plt\n",
    "%matplotlib inline  \n",
    "\n",
    "fig, loss_ax = plt.subplots()\n",
    "# plt.figure(figsize=(6,4)) # ERROR\n",
    "fig.set_size_inches(10, 5)  # 챠트 크기 설정\n",
    "\n",
    "acc_ax = loss_ax.twinx()  # 오른쪽 y 출 설정\n",
    "\n",
    "# 왼쪽 y 축 설정\n",
    "loss_ax.plot(hist.history['loss'], 'y', label='train loss')\n",
    "loss_ax.plot(hist.history['val_loss'], 'r', label='val loss')\n",
    "loss_ax.set_ylim([0.0, 1.5]) # 값을 반영하여 변경\n",
    "\n",
    "# 오른쪽 y 축 설정\n",
    "acc_ax.plot(hist.history['accuracy'], 'b', label='train accuracy')\n",
    "acc_ax.plot(hist.history['val_accuracy'], 'g', label='val accuracy')\n",
    "acc_ax.set_ylim([0.0, 1.1])\n",
    "\n",
    "# 축 레이블 설정\n",
    "loss_ax.set_xlabel('epoch' )  # 학습 횟수\n",
    "loss_ax.set_ylabel('loss')    # 왼쪽 y 축 레이블, 오차\n",
    "acc_ax.set_ylabel('accuracy') # 오른쪽 y 축 레이블,정확도\n",
    "\n",
    "loss_ax.legend(loc='upper left') # 왼쪽 y 축 오차 레이블 위치\n",
    "acc_ax.legend(loc='lower left')  # 오른쪽 y 축 정확도 레이블 위치\n",
    "\n",
    "plt.show()"
   ]
  },
  {
   "cell_type": "code",
   "execution_count": 13,
   "id": "638e83e7",
   "metadata": {},
   "outputs": [
    {
     "name": "stdout",
     "output_type": "stream",
     "text": [
      "손실값: 0.0010501863434910774 /정확도: 100.0 %\n"
     ]
    }
   ],
   "source": [
    "test_loss, test_acc = model.evaluate(x_val, y_val, batch_size=1, verbose=0)\n",
    "print('손실값:', test_loss, '/정확도:', (test_acc*100), '%')"
   ]
  },
  {
   "cell_type": "code",
   "execution_count": 17,
   "id": "955dee2d",
   "metadata": {},
   "outputs": [],
   "source": [
    "model.save(path + '/Pinterest.h5')"
   ]
  },
  {
   "cell_type": "code",
   "execution_count": 14,
   "id": "f5419678",
   "metadata": {},
   "outputs": [
    {
     "name": "stdout",
     "output_type": "stream",
     "text": [
      "데이터: (44, 49)\n",
      "데이터: [0. 0. 0. 0. 0. 1. 0. 0. 0. 0. 0. 0. 1. 0. 0. 0. 0. 0. 0. 1. 0. 0. 0. 0.\n",
      " 0. 0. 1. 0. 0. 0. 0. 0. 0. 1. 0. 0. 0. 0. 0. 0. 1. 0. 0. 0. 0. 0. 0. 1.\n",
      " 0.]\n",
      "2/2 [==============================] - 0s 9ms/step\n",
      "예측 결과 p.shape: (44, 7)\n"
     ]
    }
   ],
   "source": [
    "print('데이터:', x_test.shape) # 변수가 25개로 구성된 10건의 관측치(행)\n",
    "print('데이터:', x_test[0])    # 첫번째 데이터행\n",
    "\n",
    "p = model.predict(x_test)      # 테스트 데이터 44건 ★\n",
    "print('예측 결과 p.shape:', p.shape)     # (44, 7): 7: 카테고리(폼종)의 갯수"
   ]
  },
  {
   "cell_type": "code",
   "execution_count": 15,
   "id": "668d3d42",
   "metadata": {},
   "outputs": [
    {
     "name": "stdout",
     "output_type": "stream",
     "text": [
      "예측값: [1.7919465e-06 1.9922673e-08 2.6793650e-05 3.1978569e-05 6.6720444e-05\n",
      " 9.9985754e-01 1.5154311e-05]\n"
     ]
    }
   ],
   "source": [
    "# 첫번째 행의 예측값 출력, 확률 0 ~ 1사이의 실수값\n",
    "print('예측값:', p[0])   "
   ]
  },
  {
   "cell_type": "code",
   "execution_count": 16,
   "id": "88a9a3a1",
   "metadata": {},
   "outputs": [
    {
     "name": "stdout",
     "output_type": "stream",
     "text": [
      "예측값의 합: 1.000\n"
     ]
    }
   ],
   "source": [
    "# 예측값의 합:1 -> 100%\n",
    "print('예측값의 합: {0:0.3f}'.format(np.sum(p[0])))"
   ]
  },
  {
   "cell_type": "code",
   "execution_count": 17,
   "id": "6f752661",
   "metadata": {},
   "outputs": [
    {
     "name": "stdout",
     "output_type": "stream",
     "text": [
      "예측값: 0.00018% 0.00000% 0.00268% 0.00320% 0.00667% 99.98575% 0.00152%\n"
     ]
    }
   ],
   "source": [
    "# 하나의 행이 속할 카테고리는 7건이고 예측값도 7건에 속할 확률이 출력됨.\n",
    "fmt = '예측값: {0:.5f}% {1:.5f}% {2:.5f}% {3:.5f}% {4:.5f}% {5:.5f}% {6:.5f}%'\n",
    "print(fmt.format(p[0,0]*100, p[0,1]*100, p[0,2]*100, p[0,3]*100, p[0,4]*100, p[0,5]*100, p[0,6]*100))"
   ]
  },
  {
   "cell_type": "code",
   "execution_count": 18,
   "id": "86417ad1",
   "metadata": {},
   "outputs": [
    {
     "name": "stdout",
     "output_type": "stream",
     "text": [
      "One-hot-encoding(찾아야할 값):  [0. 0. 0. 0. 0. 1. 0.]\n",
      "예측값: 5\n"
     ]
    }
   ],
   "source": [
    "print('One-hot-encoding(찾아야할 값): ', y_test[0]) # Target 원본\n",
    "print('예측값:', np.argmax(p[0])) # 가장 큰값의 index ★"
   ]
  },
  {
   "cell_type": "code",
   "execution_count": 19,
   "id": "bb3571bc",
   "metadata": {},
   "outputs": [
    {
     "name": "stdout",
     "output_type": "stream",
     "text": [
      "[[1.79194649e-06 1.99226733e-08 2.67936502e-05 3.19785686e-05\n",
      "  6.67204440e-05 9.99857545e-01 1.51543109e-05]\n",
      " [8.94373399e-04 1.07336779e-08 1.94032657e-09 3.55303996e-06\n",
      "  9.98269200e-01 8.32811231e-04 1.23810890e-08]\n",
      " [9.97461319e-01 1.31705531e-03 1.03672421e-04 6.16811349e-06\n",
      "  1.06595724e-03 1.57385421e-05 3.00363863e-05]\n",
      " [8.94373399e-04 1.07336779e-08 1.94032657e-09 3.55303996e-06\n",
      "  9.98269200e-01 8.32811231e-04 1.23810890e-08]\n",
      " [8.24522926e-04 9.98323023e-01 1.65254736e-04 2.56011663e-05\n",
      "  1.15642038e-08 1.07512726e-07 6.61451195e-04]\n",
      " [5.62518139e-08 1.59419622e-04 1.32249028e-07 3.10918840e-04\n",
      "  1.96950259e-06 2.55305233e-04 9.99272168e-01]\n",
      " [9.99166369e-01 3.98932316e-04 2.23833249e-05 8.70223346e-07\n",
      "  4.03175043e-04 2.86982231e-06 5.41016152e-06]\n",
      " [5.62518139e-08 1.59419622e-04 1.32249028e-07 3.10918840e-04\n",
      "  1.96950259e-06 2.55305233e-04 9.99272168e-01]\n",
      " [1.50250852e-08 1.21903293e-04 9.97951730e-08 9.99401569e-01\n",
      "  2.39292116e-04 1.25953680e-04 1.11239839e-04]\n",
      " [9.99166369e-01 3.98932316e-04 2.23833249e-05 8.70223346e-07\n",
      "  4.03175043e-04 2.86982231e-06 5.41016152e-06]\n",
      " [5.62518139e-08 1.59419622e-04 1.32249028e-07 3.10918840e-04\n",
      "  1.96950259e-06 2.55305233e-04 9.99272168e-01]\n",
      " [1.79194649e-06 1.99226733e-08 2.67936502e-05 3.19785686e-05\n",
      "  6.67204440e-05 9.99857545e-01 1.51543109e-05]\n",
      " [6.25815810e-05 2.30752441e-04 9.98769939e-01 6.03851695e-05\n",
      "  1.45286118e-04 7.22281169e-04 8.73510089e-06]\n",
      " [1.79194649e-06 1.99226733e-08 2.67936502e-05 3.19785686e-05\n",
      "  6.67204440e-05 9.99857545e-01 1.51543109e-05]\n",
      " [1.50250852e-08 1.21903293e-04 9.97951730e-08 9.99401569e-01\n",
      "  2.39292116e-04 1.25953680e-04 1.11239839e-04]\n",
      " [6.25815810e-05 2.30752441e-04 9.98769939e-01 6.03851695e-05\n",
      "  1.45286118e-04 7.22281169e-04 8.73510089e-06]\n",
      " [6.25815810e-05 2.30752441e-04 9.98769939e-01 6.03851695e-05\n",
      "  1.45286118e-04 7.22281169e-04 8.73510089e-06]\n",
      " [1.79194649e-06 1.99226733e-08 2.67936502e-05 3.19785686e-05\n",
      "  6.67204440e-05 9.99857545e-01 1.51543109e-05]\n",
      " [1.50250852e-08 1.21903293e-04 9.97951730e-08 9.99401569e-01\n",
      "  2.39292116e-04 1.25953680e-04 1.11239839e-04]\n",
      " [9.99166369e-01 3.98932316e-04 2.23833249e-05 8.70223346e-07\n",
      "  4.03175043e-04 2.86982231e-06 5.41016152e-06]\n",
      " [8.24522926e-04 9.98323023e-01 1.65254736e-04 2.56011663e-05\n",
      "  1.15642038e-08 1.07512726e-07 6.61451195e-04]\n",
      " [8.24522926e-04 9.98323023e-01 1.65254736e-04 2.56011663e-05\n",
      "  1.15642038e-08 1.07512726e-07 6.61451195e-04]\n",
      " [6.25815810e-05 2.30752441e-04 9.98769939e-01 6.03851695e-05\n",
      "  1.45286118e-04 7.22281169e-04 8.73510089e-06]\n",
      " [5.62518139e-08 1.59419622e-04 1.32249028e-07 3.10918840e-04\n",
      "  1.96950259e-06 2.55305233e-04 9.99272168e-01]\n",
      " [1.50250852e-08 1.21903293e-04 9.97951730e-08 9.99401569e-01\n",
      "  2.39292116e-04 1.25953680e-04 1.11239839e-04]\n",
      " [6.25815810e-05 2.30752441e-04 9.98769939e-01 6.03851695e-05\n",
      "  1.45286118e-04 7.22281169e-04 8.73510089e-06]\n",
      " [8.24522926e-04 9.98323023e-01 1.65254736e-04 2.56011663e-05\n",
      "  1.15642038e-08 1.07512726e-07 6.61451195e-04]\n",
      " [6.25815810e-05 2.30752441e-04 9.98769939e-01 6.03851695e-05\n",
      "  1.45286118e-04 7.22281169e-04 8.73510089e-06]\n",
      " [1.50250852e-08 1.21903293e-04 9.97951730e-08 9.99401569e-01\n",
      "  2.39292116e-04 1.25953680e-04 1.11239839e-04]\n",
      " [1.79194649e-06 1.99226733e-08 2.67936502e-05 3.19785686e-05\n",
      "  6.67204440e-05 9.99857545e-01 1.51543109e-05]\n",
      " [8.24522926e-04 9.98323023e-01 1.65254736e-04 2.56011663e-05\n",
      "  1.15642038e-08 1.07512726e-07 6.61451195e-04]\n",
      " [9.99166369e-01 3.98932316e-04 2.23833249e-05 8.70223346e-07\n",
      "  4.03175043e-04 2.86982231e-06 5.41016152e-06]\n",
      " [5.62518139e-08 1.59419622e-04 1.32249028e-07 3.10918840e-04\n",
      "  1.96950259e-06 2.55305233e-04 9.99272168e-01]\n",
      " [8.24522926e-04 9.98323023e-01 1.65254736e-04 2.56011663e-05\n",
      "  1.15642038e-08 1.07512726e-07 6.61451195e-04]\n",
      " [8.94373399e-04 1.07336779e-08 1.94032657e-09 3.55303996e-06\n",
      "  9.98269200e-01 8.32811231e-04 1.23810890e-08]\n",
      " [8.94373399e-04 1.07336779e-08 1.94032657e-09 3.55303996e-06\n",
      "  9.98269200e-01 8.32811231e-04 1.23810890e-08]\n",
      " [9.99166369e-01 3.98932316e-04 2.23833249e-05 8.70223346e-07\n",
      "  4.03175043e-04 2.86982231e-06 5.41016152e-06]\n",
      " [8.94373399e-04 1.07336779e-08 1.94032657e-09 3.55303996e-06\n",
      "  9.98269200e-01 8.32811231e-04 1.23810890e-08]\n",
      " [9.99166369e-01 3.98932316e-04 2.23833249e-05 8.70223346e-07\n",
      "  4.03175043e-04 2.86982231e-06 5.41016152e-06]\n",
      " [1.50250852e-08 1.21903293e-04 9.97951730e-08 9.99401569e-01\n",
      "  2.39292116e-04 1.25953680e-04 1.11239839e-04]\n",
      " [1.79194649e-06 1.99226733e-08 2.67936502e-05 3.19785686e-05\n",
      "  6.67204440e-05 9.99857545e-01 1.51543109e-05]\n",
      " [8.94373399e-04 1.07336779e-08 1.94032657e-09 3.55303996e-06\n",
      "  9.98269200e-01 8.32811231e-04 1.23810890e-08]\n",
      " [9.99166369e-01 3.98932316e-04 2.23833249e-05 8.70223346e-07\n",
      "  4.03175043e-04 2.86982231e-06 5.41016152e-06]\n",
      " [5.62518139e-08 1.59419622e-04 1.32249028e-07 3.10918840e-04\n",
      "  1.96950259e-06 2.55305233e-04 9.99272168e-01]]\n"
     ]
    }
   ],
   "source": [
    "print(p) # 44건의 모든 예측값 출력"
   ]
  },
  {
   "cell_type": "code",
   "execution_count": null,
   "id": "52e5ae37",
   "metadata": {},
   "outputs": [],
   "source": []
  }
 ],
 "metadata": {
  "kernelspec": {
   "display_name": "ai",
   "language": "python",
   "name": "python3"
  },
  "language_info": {
   "codemirror_mode": {
    "name": "ipython",
    "version": 3
   },
   "file_extension": ".py",
   "mimetype": "text/x-python",
   "name": "python",
   "nbconvert_exporter": "python",
   "pygments_lexer": "ipython3",
   "version": "3.10.13"
  }
 },
 "nbformat": 4,
 "nbformat_minor": 5
}
